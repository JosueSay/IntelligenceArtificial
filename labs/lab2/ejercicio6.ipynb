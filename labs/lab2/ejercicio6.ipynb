{
 "cells": [
  {
   "cell_type": "markdown",
   "metadata": {},
   "source": [
    "# Compresión de Imágenes usando PCA\n",
    "\n",
    "Históricamente, uno de los primeros usos de **PCA** en el área de procesamiento de imágenes fue como método de compresión. \n",
    "\n",
    "Si tenemos una imagen de tamaño $H \\times W $ píxeles, esta se subdivide en bloques de $C \\times C $ píxeles (por ejemplo, tomar $C $ un factor común de las dimensiones $H $ y $W $ de la imagen). Con los valores de los píxeles en cada bloque se forma un vector:\n",
    "\n",
    "\\[\n",
    "\\mathbf{b}_i = (x_1, x_2, \\dots, x_{c^2}) \\in \\mathbb{R}^{c^2}\n",
    "\\]\n",
    "\n",
    "La matriz de datos se forma con todos estos vectores provenientes de los bloques $i $ vectorizados. \n",
    "\n",
    "La **compresión** consiste en proyectar los datos sobre los primeros $k $ componentes principales, mientras que la **descompresión** consiste en reconstruir la imagen a su tamaño original $H \\times W $ a partir de estas proyecciones.\n",
    "\n",
    "## Implementación\n",
    "\n",
    "Implementar lo anterior para varias imágenes (en escala de grises o a color) y mostrar el efecto del valor de $k $ sobre la calidad de la reconstrucción. \n",
    "\n",
    "- Analizar cómo cambia el **error de reconstrucción** y la **calidad visual** a medida que se incrementa o disminuye $k $.\n",
    "- Mostrar los resultados obtenidos de al menos **3 imágenes**.\n"
   ]
  }
 ],
 "metadata": {
  "kernelspec": {
   "display_name": ".venv",
   "language": "python",
   "name": "python3"
  },
  "language_info": {
   "name": "python",
   "version": "3.12.3"
  }
 },
 "nbformat": 4,
 "nbformat_minor": 2
}
