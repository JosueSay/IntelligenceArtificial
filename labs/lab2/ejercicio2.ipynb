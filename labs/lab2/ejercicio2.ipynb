{
 "cells": [
  {
   "cell_type": "markdown",
   "metadata": {},
   "source": [
    "# Comparación de Muestras en Python\n",
    "\n",
    "Se elaborará una función en Python que permitirá comparar dos muestras. Estas pueden ser:\n",
    "\n",
    "- Dos muestras provenientes de distribuciones teóricas.\n",
    "- Una muestra teórica y una muestra a partir de datos.\n",
    "- Dos muestras provenientes de datos."
   ]
  },
  {
   "cell_type": "markdown",
   "metadata": {},
   "source": [
    "## La función mostrará\n",
    "\n",
    "1. **Funciones de densidad** $ f_1 $ y $ f_2 $.\n",
    "2. **Funciones de distribución** $ F_1 $ y $ F_2 $.\n",
    "3. **Gráfica PP (prob-prob)**.\n",
    "4. **Gráfica QQ (quantil-quantil)**."
   ]
  },
  {
   "cell_type": "code",
   "execution_count": null,
   "metadata": {},
   "outputs": [],
   "source": [
    "print(\"parte1\")"
   ]
  },
  {
   "cell_type": "markdown",
   "metadata": {},
   "source": [
    "Además, se calculará la **distancia de Kolmogorov-Smirnov (KS)** y se ilustrará en las gráficas de densidad y de distribución el punto donde se alcanza esta distancia KS."
   ]
  },
  {
   "cell_type": "code",
   "execution_count": null,
   "metadata": {},
   "outputs": [],
   "source": [
    "print(\"parte2\")"
   ]
  },
  {
   "cell_type": "markdown",
   "metadata": {},
   "source": [
    "## Prueba de hipótesis de Kolmogorov-Smirnov\n",
    "\n",
    "Se realizará una prueba de hipótesis de Kolmogorov-Smirnov para comparar las muestras."
   ]
  },
  {
   "cell_type": "code",
   "execution_count": null,
   "metadata": {},
   "outputs": [],
   "source": [
    "print(\"parte3\")"
   ]
  },
  {
   "cell_type": "markdown",
   "metadata": {},
   "source": [
    "## Experimentos a realizar\n",
    "\n",
    "Se utilizará alguno de los experimentos del ejercicio anterior (con un valor p y N fijo), comparando la distribución obtenida del experimento contra una muestra generada aleatoriamente de la distribución geométrica."
   ]
  },
  {
   "cell_type": "code",
   "execution_count": null,
   "metadata": {},
   "outputs": [],
   "source": [
    "print(\"parte4\")"
   ]
  },
  {
   "cell_type": "markdown",
   "metadata": {},
   "source": [
    "Las distribuciones a comparar serán:\n",
    "\n",
    "1. $ \\text{Geom}(p) $\n",
    "2. $ \\text{Geom}(q) $, para $ q = 1.2p $ (asegurando que $ 0 < q < 1 $)."
   ]
  },
  {
   "cell_type": "code",
   "execution_count": null,
   "metadata": {},
   "outputs": [],
   "source": [
    "print(\"parte5\")"
   ]
  }
 ],
 "metadata": {
  "kernelspec": {
   "display_name": ".venv",
   "language": "python",
   "name": "python3"
  },
  "language_info": {
   "name": "python",
   "version": "3.12.3"
  }
 },
 "nbformat": 4,
 "nbformat_minor": 2
}
