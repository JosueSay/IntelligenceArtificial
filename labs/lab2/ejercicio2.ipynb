{
 "cells": [
  {
   "cell_type": "markdown",
   "metadata": {},
   "source": [
    "# Comparación de Muestras en Python\n",
    "\n",
    "Elaborar una función en Python que permita comparar dos muestras. Estas pueden ser:\n",
    "\n",
    "- Dos muestras provenientes de distribuciones teóricas.\n",
    "- Una muestra teórica y una muestra a partir de datos.\n",
    "- Dos muestras provenientes de datos.\n",
    "\n",
    "## La función debe mostrar:\n",
    "1. **Funciones de densidad** $ f_1 $ y $ f_2 $.\n",
    "2. **Funciones de distribución** $ F_1 $ y $ F_2 $.\n",
    "3. **Gráfica PP (prob-prob)**.\n",
    "4. **Gráfica QQ (quantil-quantil)**.\n",
    "\n",
    "Además, la función debe calcular la **distancia de Kolmogorov-Smirnov (KS)** e ilustrar en las gráficas de densidad y de distribución el punto donde se alcanza esta distancia KS.\n",
    "\n",
    "## Prueba de hipótesis de Kolmogorov-Smirnov\n",
    "Se debe realizar una prueba de hipótesis de Kolmogorov-Smirnov para comparar las muestras.\n",
    "\n",
    "## Experimentos a realizar\n",
    "Usar alguno de los experimentos del ejercicio anterior (con un valor $ p $ y $ N $ fijo) y comparar la distribución obtenida del experimento contra una muestra generada aleatoriamente de la distribución geométrica:\n",
    "\n",
    "1. $ \\text{Geom}(p) $\n",
    "2. $ \\text{Geom}(q) $, para $ q = 1.2p $ (asegurando que $ 0 < q < 1 $)."
   ]
  }
 ],
 "metadata": {
  "language_info": {
   "name": "python"
  }
 },
 "nbformat": 4,
 "nbformat_minor": 2
}
